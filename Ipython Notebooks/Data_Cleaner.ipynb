{
 "cells": [
  {
   "cell_type": "code",
   "execution_count": 1,
   "metadata": {
    "collapsed": true
   },
   "outputs": [],
   "source": [
    "import pandas as pd\n",
    "import os\n",
    "import numpy as np"
   ]
  },
  {
   "cell_type": "code",
   "execution_count": 2,
   "metadata": {
    "collapsed": true
   },
   "outputs": [],
   "source": [
    "os.chdir(\"/home/manobhav/PycharmProjects/FirCrawler/Dataset/\")"
   ]
  },
  {
   "cell_type": "code",
   "execution_count": 3,
   "metadata": {
    "collapsed": true
   },
   "outputs": [],
   "source": [
    "def savefile(dataframe,name):\n",
    "    if os.path.isfile(name):\n",
    "        with open(name, 'a') as f:\n",
    "            dataframe.to_csv(f, header=False,index=False)\n",
    "    else:\n",
    "        dataframe.to_csv(name, index=False)"
   ]
  },
  {
   "cell_type": "code",
   "execution_count": 4,
   "metadata": {
    "collapsed": true
   },
   "outputs": [],
   "source": [
    "df1=pd.read_csv('new_raw_data.csv')\n",
    "if os.path.isfile('raw_data.csv'):\n",
    "    df2=pd.read_csv('raw_data.csv')\n",
    "    df2=df2.append(df1, ignore_index=True)\n",
    "    df2.drop_duplicates(subset=\"filename\",inplace=True)\n",
    "    df2.to_csv('raw_data.csv',index=False)\n",
    "else:\n",
    "    df1.to_csv('raw_data.csv',index=False)"
   ]
  },
  {
   "cell_type": "code",
   "execution_count": 5,
   "metadata": {
    "collapsed": false
   },
   "outputs": [],
   "source": [
    "import re\n",
    "def cleaner(x):\n",
    "    #print(x.psdate)\n",
    "    arr=['dateto','datefrom','psdate','timeto','timefrom','pstime','section','pahar']\n",
    "    for i in arr:\n",
    "        x[i]=x[i].replace(\" \",\"\").replace(\"l\",\"/\").replace(\"hrs\",\"\").replace(\"N\",\"A/\").replace(\"Pahar\",\"\").replace(\"Z\",\"2\").replace(\"!\",\"/\")\n",
    "            \n",
    "    \n",
    "    x.address=x.address.replace(\"|\",\"I\")\n",
    "    x.day=x.day.replace(\"Fﬁday\",\"Friday\").replace(\"D10\",\"DAY\")\n",
    "            \n",
    "        \n",
    "    return x\n",
    "\n",
    "df1=df1.replace(np.nan, '', regex=True)\n",
    "df1=df1.apply(cleaner,axis=1)\n",
    "df1[\"pahar\"] = np.where(df1.pahar.isnull(),0, df1.pahar)"
   ]
  },
  {
   "cell_type": "code",
   "execution_count": 6,
   "metadata": {
    "collapsed": true
   },
   "outputs": [],
   "source": [
    "df1.psdate=pd.to_datetime(df1.psdate,dayfirst=True,errors='coerce')\n",
    "df1.datefrom=pd.to_datetime(df1.datefrom,dayfirst=True,errors='coerce')\n",
    "df1.dateto=pd.to_datetime(df1.dateto,dayfirst=True,errors='coerce')"
   ]
  },
  {
   "cell_type": "code",
   "execution_count": 7,
   "metadata": {
    "collapsed": true
   },
   "outputs": [],
   "source": [
    "savefile(df1,\"cleaning_fulldataset.csv\")"
   ]
  },
  {
   "cell_type": "code",
   "execution_count": 8,
   "metadata": {
    "collapsed": true
   },
   "outputs": [],
   "source": [
    "off_ref=pd.read_csv(\"offence_ref.csv\")\n",
    "off_ref=off_ref[~off_ref.Offence.isnull()]\n",
    "off_ref.Section=off_ref.Section.astype('str')\n"
   ]
  },
  {
   "cell_type": "code",
   "execution_count": 9,
   "metadata": {
    "collapsed": true
   },
   "outputs": [],
   "source": [
    "serious_charges=[\"house-trespass\",\"Theft\",\"Snatching\",\"Stalking\",\"Rash driving\",\"Robbery\",\"Kidnapping\",\"domestic abuse\",\"culpable homicide\",\"sexual harrasement\",\"Rape\",\"murder\"]\n",
    "def func(x):\n",
    "    charges=set()\n",
    "    x[\"full_charge\"]=\"\"\n",
    "    x[\"group_charge\"]=\"\"\n",
    "    sections=x.section.split(\"/\")\n",
    "    for section in sections:\n",
    "        section=section.replace(\"(\",\"\").replace(\")\",\"\").replace(\"O\",\"0\")\n",
    "        if len(off_ref[off_ref.Section==section])>0:\n",
    "            charges.add(off_ref[off_ref.Section==section].loc[:,\"Offence\"].values[0])\n",
    "\n",
    "    \n",
    "    \n",
    "    sorted_charges=sorted(charges)\n",
    "    #print(sorted_charges)\n",
    "    res=(\"-\").join(sorted_charges)\n",
    "    x[\"full_charge\"]=res\n",
    "    for charge in serious_charges:\n",
    "        if charge in sorted_charges:\n",
    "            res=charge\n",
    "    x[\"group_charge\"]=res\n",
    "    #print(res)\n",
    "    return x\n",
    "df1.section=df1.section.astype('str')            \n",
    "df1=df1.apply(func,axis=1)"
   ]
  },
  {
   "cell_type": "code",
   "execution_count": 10,
   "metadata": {
    "collapsed": false
   },
   "outputs": [
    {
     "data": {
      "text/plain": [
       "Theft                                                                           1041\n",
       "Disobedience to pub. Serv. Order                                                 678\n",
       "Snatching                                                                        537\n",
       "                                                                                 465\n",
       "Rash driving                                                                     464\n",
       "Kidnapping                                                                       332\n",
       "obstruction by a person                                                          230\n",
       "cheating                                                                         202\n",
       "sexual harrasement                                                               192\n",
       "Robbery                                                                          179\n",
       "domestic abuse                                                                   132\n",
       "Rape                                                                              78\n",
       "Causing hurt-wrong restraint                                                      75\n",
       "obstruction by a person-public nuisance                                           62\n",
       "Criminal breach of trust-cheating                                                 45\n",
       "Causing hurt-Criminal intimidation-wrong restraint                                43\n",
       "culpable homicide                                                                 42\n",
       "house-trespass                                                                    36\n",
       "murder                                                                            36\n",
       "Negligent conduct-endangering safety of others                                    28\n",
       "hurt by dangerous weapons                                                         22\n",
       "Stalking                                                                          19\n",
       "grievous hurt                                                                     12\n",
       "Theft by clerk                                                                    11\n",
       "corruption                                                                         9\n",
       "false property acquisuition-hurting public servant                                 8\n",
       "endangering safety of others                                                       8\n",
       "Negligence conduct-Negligent conduct                                               8\n",
       "Disobedience to pub. Serv. Order-hurting public servant                            7\n",
       "false property acquisuition                                                        6\n",
       "Criminal breach of trust                                                           6\n",
       "hurt by dangerous weapons-wrong restraint                                          5\n",
       "Causing hurt-mischief-wrong restraint                                              5\n",
       "Causing hurt-hurt by dangerous weapons                                             4\n",
       "Unnatural offence                                                                  4\n",
       "Concealment of birth                                                               4\n",
       "Abetment of suicide                                                                4\n",
       "Criminal intimidation-wrong restraint                                              4\n",
       "Criminal intimidation                                                              4\n",
       "Extortion                                                                          3\n",
       "Negligence conduct                                                                 3\n",
       "mischief                                                                           3\n",
       "Negligent conduct                                                                  3\n",
       "Negligent conduct-public nuisance                                                  3\n",
       "Causing hurt                                                                       3\n",
       "mischief by killing                                                                3\n",
       "Illegal explosives                                                                 3\n",
       "cheating-using false property                                                      2\n",
       "Criminal intimidation-Unnatural offence                                            2\n",
       "Criminal intimidation-Extortion                                                    2\n",
       "Causing hurt-Criminal intimidation-mischief-wrong restraint                        2\n",
       "Causing hurt-Criminal intimidation-Women abuse                                     2\n",
       "grievous hurt-wrong restraint                                                      2\n",
       "Criminal breach of trust-Criminal intimidation                                     2\n",
       "Negligence conduct-Negligent conduct-endangering safety of others                  2\n",
       "Causing hurt-wrongful confinement                                                  2\n",
       "Criminal intimidation-hurt by dangerous weapons                                    2\n",
       "Criminal intimidation-cheating                                                     2\n",
       "offences punishable                                                                1\n",
       "mischief by killing-offences punishable                                            1\n",
       "Criminal intimidation-endangering safety of others                                 1\n",
       "Causing hurt-Disobedience to pub. Serv. Order-hurting public servant               1\n",
       "Causing hurt-mischief                                                              1\n",
       "Criminal intimidation-wrong restraint-wrongful confinement                         1\n",
       "Illegal explosives-mischief                                                        1\n",
       "Criminal intimidation-Illegal explosives-mischief                                  1\n",
       "Furnish false info                                                                 1\n",
       "Criminal intimidation-Women abuse                                                  1\n",
       "cheating-corruption                                                                1\n",
       "Furnish false info-cheating                                                        1\n",
       "Theft by clerk-offences punishable                                                 1\n",
       "Voluntarily causing hurt                                                           1\n",
       "Disobedience to pub. Serv. Order-hurting public servant-wrongful confinement       1\n",
       "wrongful confinement                                                               1\n",
       "endangering safety of others-mischief by fire                                      1\n",
       "Causing hurt-Criminal intimidation                                                 1\n",
       "Criminal intimidation-wrongful confinement                                         1\n",
       "Causing hurt-Criminal intimidation-endangering safety of others-mischief           1\n",
       "Threatening a person                                                               1\n",
       "Causing hurt-Criminal intimidation-grievous hurt                                   1\n",
       "Causing hurt-Illegal explosives                                                    1\n",
       "Criminal intimidation-Threatening a person -wrong restraint                        1\n",
       "Causing hurt-grievous hurt                                                         1\n",
       "Causing hurt-Women abuse                                                           1\n",
       "Criminal intimidation-grievous hurt                                                1\n",
       "Criminal breach of trust-cheating-corruption                                       1\n",
       "Criminal intimidation-mischief-wrong restraint                                     1\n",
       "Negligence conduct-Negligent conduct-clearing evidence                             1\n",
       "cheating-offences punishable                                                       1\n",
       "endangering safety of others-obstruction by a person                               1\n",
       "Causing hurt-Criminal intimidation-wrongful confinement                            1\n",
       "Extortion-obstruction by a person                                                  1\n",
       "Causing hurt-hurt by dangerous weapons-wrong restraint-wrongful confinement        1\n",
       "Causing hurt-grievous hurt-wrong restraint                                         1\n",
       "Name: group_charge, dtype: int64"
      ]
     },
     "execution_count": 10,
     "metadata": {},
     "output_type": "execute_result"
    }
   ],
   "source": [
    "counts=df1.group_charge.value_counts()\n",
    "pd.set_option('display.max_rows', 500)\n",
    "counts"
   ]
  },
  {
   "cell_type": "code",
   "execution_count": 11,
   "metadata": {
    "collapsed": true
   },
   "outputs": [],
   "source": [
    "extras=df1[(df1.full_charge==\"\")]\n",
    "df1=df1[~(df1.full_charge==\"\")]"
   ]
  },
  {
   "cell_type": "code",
   "execution_count": 12,
   "metadata": {
    "collapsed": false
   },
   "outputs": [
    {
     "data": {
      "text/plain": [
       "Theft                                                      1041\n",
       "Disobedience to pub. Serv. Order                            678\n",
       "Snatching                                                   537\n",
       "Rash driving                                                464\n",
       "Kidnapping                                                  332\n",
       "obstruction by a person                                     230\n",
       "cheating                                                    202\n",
       "sexual harrasement                                          192\n",
       "Robbery                                                     179\n",
       "domestic abuse                                              132\n",
       "Rape                                                         78\n",
       "Causing hurt-wrong restraint                                 75\n",
       "obstruction by a person-public nuisance                      62\n",
       "Others                                                       58\n",
       "Criminal breach of trust-cheating                            45\n",
       "Causing hurt-Criminal intimidation-wrong restraint           43\n",
       "culpable homicide                                            42\n",
       "murder                                                       36\n",
       "house-trespass                                               36\n",
       "Negligent conduct-endangering safety of others               28\n",
       "hurt by dangerous weapons                                    22\n",
       "Stalking                                                     19\n",
       "grievous hurt                                                12\n",
       "Theft by clerk                                               11\n",
       "corruption                                                    9\n",
       "false property acquisuition-hurting public servant            8\n",
       "Negligence conduct-Negligent conduct                          8\n",
       "endangering safety of others                                  8\n",
       "Disobedience to pub. Serv. Order-hurting public servant       7\n",
       "Criminal breach of trust                                      6\n",
       "false property acquisuition                                   6\n",
       "Causing hurt-mischief-wrong restraint                         5\n",
       "hurt by dangerous weapons-wrong restraint                     5\n",
       "Abetment of suicide                                           4\n",
       "Criminal intimidation-wrong restraint                         4\n",
       "Criminal intimidation                                         4\n",
       "Concealment of birth                                          4\n",
       "Unnatural offence                                             4\n",
       "Causing hurt-hurt by dangerous weapons                        4\n",
       "mischief by killing                                           3\n",
       "Illegal explosives                                            3\n",
       "Extortion                                                     3\n",
       "Negligent conduct-public nuisance                             3\n",
       "Causing hurt                                                  3\n",
       "Negligent conduct                                             3\n",
       "mischief                                                      3\n",
       "Negligence conduct                                            3\n",
       "Name: group_charge, dtype: int64"
      ]
     },
     "execution_count": 12,
     "metadata": {},
     "output_type": "execute_result"
    }
   ],
   "source": [
    "def func2(x):\n",
    "    #print(len(x))\n",
    "    if len(x)<3:\n",
    "        x.group_charge=\"Others\"\n",
    "    return x\n",
    "df1=df1.groupby([\"group_charge\"]).apply(func2)\n",
    "df1.group_charge.value_counts()"
   ]
  },
  {
   "cell_type": "code",
   "execution_count": 13,
   "metadata": {
    "collapsed": true
   },
   "outputs": [],
   "source": [
    "df1[\"hour\"]=pd.to_datetime(df1.timefrom).dt.hour\n",
    "df1=df1[~df1.hour.isnull()]"
   ]
  },
  {
   "cell_type": "code",
   "execution_count": 14,
   "metadata": {
    "collapsed": true
   },
   "outputs": [],
   "source": [
    "savefile(df1,\"charged_main_dataset_2.csv\")"
   ]
  },
  {
   "cell_type": "code",
   "execution_count": 17,
   "metadata": {
    "collapsed": false
   },
   "outputs": [],
   "source": [
    "wrong_add=df1[(df1.address.str.contains(\"Distance\")).all() or (df1.address.str.contains(re.compile(r'[a-z]+')))]\n",
    "savefile(wrong_add,'wrong_add.csv')"
   ]
  },
  {
   "cell_type": "code",
   "execution_count": 18,
   "metadata": {
    "collapsed": false
   },
   "outputs": [],
   "source": [
    "add_clean=df1[~(df1.address.str.contains(\"Distance\")).all() and ~(df1.address.str.contains(re.compile(r'[a-z]+')))]\n",
    "savefile(add_clean,'cleaned_address_data_with_charges_3.csv')"
   ]
  },
  {
   "cell_type": "code",
   "execution_count": null,
   "metadata": {
    "collapsed": true
   },
   "outputs": [],
   "source": []
  }
 ],
 "metadata": {
  "kernelspec": {
   "display_name": "Python 3",
   "language": "python",
   "name": "python3"
  },
  "language_info": {
   "codemirror_mode": {
    "name": "ipython",
    "version": 3
   },
   "file_extension": ".py",
   "mimetype": "text/x-python",
   "name": "python",
   "nbconvert_exporter": "python",
   "pygments_lexer": "ipython3",
   "version": "3.6.0"
  }
 },
 "nbformat": 4,
 "nbformat_minor": 2
}
